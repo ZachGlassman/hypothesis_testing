{
 "cells": [
  {
   "cell_type": "markdown",
   "metadata": {},
   "source": [
    "# Introduction\n",
    "The general theme of today is to answer a simple question, is my hypothesis correct?  \n",
    "\n",
    "Today we will focus on an easily simulated problem, the biased coin.\n",
    "\n",
    "First lets import some packages we will need into the notebook."
   ]
  },
  {
   "cell_type": "code",
   "execution_count": 1,
   "metadata": {
    "collapsed": true
   },
   "outputs": [],
   "source": [
    "import numpy as np\n",
    "import matplotlib.pyplot as plt\n",
    "import seaborn as sns\n",
    "import pandas as pd\n",
    "%matplotlib inline\n",
    "sns.set()"
   ]
  },
  {
   "cell_type": "markdown",
   "metadata": {},
   "source": [
    "Now we can set up a function which will \"flip a coin\" $N$ times to give us our data set.  We will choose how fair the coin is as an input parameter, bias and also the number of tosses.  We can plot the distribution this gives us."
   ]
  },
  {
   "cell_type": "code",
   "execution_count": 2,
   "metadata": {
    "collapsed": true
   },
   "outputs": [],
   "source": [
    "def random_coin_toss(n_tosses, bias):\n",
    "    \"\"\"\n",
    "    function to compute a number of random coin tosses \n",
    "    with a biased coin\n",
    "    \n",
    "    Parameters\n",
    "    ----------\n",
    "        n_tosses int: number of tosses of the coin\n",
    "        bias float[0,1]: bias of the coin\n",
    "        \n",
    "    Returns\n",
    "    -------\n",
    "       list of 0,1 values of length n_tosses where each value is chosen\n",
    "       uniformly from [0,1] and compared against bias\n",
    "    \"\"\"\n",
    "\n",
    "    return [1 if i > bias else 0 for i in np.random.rand(n_tosses)]"
   ]
  },
  {
   "cell_type": "markdown",
   "metadata": {},
   "source": [
    "We can run an experiment where we we toss the coin ten thousand times for a few different biases and look at the probability of getting both heads and tails.  We can see that it is reasonably close to what we would expect.\n",
    "\n",
    "*Question* : What would happen if we tossed the coin more?  Less?"
   ]
  },
  {
   "cell_type": "code",
   "execution_count": 3,
   "metadata": {},
   "outputs": [
    {
     "data": {
      "text/plain": [
       "<seaborn.axisgrid.FacetGrid at 0x7fe2d5912f60>"
      ]
     },
     "execution_count": 3,
     "metadata": {},
     "output_type": "execute_result"
    },
    {
     "data": {
      "image/png": "[encoded data removed]",
      "text/plain": [
       "<matplotlib.figure.Figure at 0x7fe2d5927048>"
      ]
     },
     "metadata": {},
     "output_type": "display_data"
    }
   ],
   "source": [
    "result = []\n",
    "N = 10000\n",
    "for bias in [.25,.5,.75]:\n",
    "    tosses = random_coin_toss(N, bias)\n",
    "    num_heads = len([i for i in tosses if i])\n",
    "    result.append({'prob':num_heads/N,\n",
    "                   'type':'heads',\n",
    "                   'bias':bias})\n",
    "    result.append({'prob':1-num_heads/N,\n",
    "                  'type':'tails',\n",
    "                  'bias':bias})\n",
    "sns.factorplot(x='bias',y='prob',hue='type',\n",
    "               data=pd.DataFrame(result),\n",
    "               kind='bar')"
   ]
  },
  {
   "cell_type": "markdown",
   "metadata": {},
   "source": [
    "So now we can ask the question, given a coin which may or may not be biased can we tell if it is biased or not?  Intuitively, if the coin is quite biased, this should be easier than if it is only slightly biased.  Of course we will generate all the data ourselves, so we can check easily check the accuracy of our results.\n",
    "\n",
    "Our first two tests will make use of statistics know as the p-value and\n",
    "\n",
    "So lets say we have flipped a coin $N$ times and computed the mean value of these flips.  If $N$ is small, we expect that if we repeated these flips again $M$ times, we would have quite a large variation in our results, if $N$ is large, we expect it to be less so."
   ]
  },
  {
   "cell_type": "code",
   "execution_count": 4,
   "metadata": {},
   "outputs": [
    {
     "data": {
      "text/plain": [
       "<matplotlib.text.Text at 0x7fe2cd9ca400>"
      ]
     },
     "execution_count": 4,
     "metadata": {},
     "output_type": "execute_result"
    },
    {
     "data": {
      "image/png": "[encoded data removed]",
      "text/plain": [
       "<matplotlib.figure.Figure at 0x7fe2f017fbe0>"
      ]
     },
     "metadata": {},
     "output_type": "display_data"
    }
   ],
   "source": [
    "n_list = np.logspace(1, 3.5, 10).astype(int)\n",
    "std_list = []\n",
    "for N in n_list:\n",
    "    flip_means = np.zeros(100)\n",
    "    for i in range(100):\n",
    "        flip_means[i] = np.mean(random_coin_toss(N, .5))\n",
    "    std_list.append(np.std(flip_means))\n",
    "plt.plot(n_list, std_list,'o-')\n",
    "plt.xlabel('Number of flips')\n",
    "plt.ylabel('mean of flips')"
   ]
  },
  {
   "cell_type": "markdown",
   "metadata": {},
   "source": [
    "This is brings us to the *null hypothesis* which in general is the hypothesis that the data does not deviate from the expected result (or is not extreme) in this case, the null hypothesis is that the coin is fair.  We cna"
   ]
  },
  {
   "cell_type": "code",
   "execution_count": 5,
   "metadata": {
    "collapsed": true
   },
   "outputs": [],
   "source": [
    "str_=\"\"\"index                 | bigint                |           | plain    |              | \n",
    " YEAR                  | bigint                |           | plain    |              | \n",
    " QUARTER               | bigint                |           | plain    |              | \n",
    " MONTH                 | bigint                |           | plain    |              | \n",
    " DAY_OF_MONTH          | bigint                |           | plain    |              | \n",
    " DAY_OF_WEEK           | bigint                |           | plain    |              | \n",
    " FL_DATE               | character varying(10) |           | extended |              | \n",
    " UNIQUE_CARRIER        | character varying(2)  |           | extended |              | \n",
    " AIRLINE_ID            | bigint                |           | plain    |              | \n",
    " CARRIER               | character varying(2)  |           | extended |              | \n",
    " TAIL_NUM              | character varying(6)  |           | extended |              | \n",
    " FL_NUM                | bigint                |           | plain    |              | \n",
    " ORIGIN_AIRPORT_ID     | bigint                |           | plain    |              | \n",
    " ORIGIN_AIRPORT_SEQ_ID | bigint                |           | plain    |              | \n",
    " ORIGIN_CITY_MARKET_ID | bigint                |           | plain    |              | \n",
    " DEST_AIRPORT_ID       | bigint                |           | plain    |              | \n",
    " DEST_AIRPORT_SEQ_ID   | bigint                |           | plain    |              | \n",
    " DEST_CITY_MARKET_ID   | bigint                |           | plain    |              | \n",
    " CRS_DEP_TIME          | bigint                |           | plain    |              | \n",
    " DEP_TIME              | double precision      |           | plain    |              | \n",
    " DEP_DELAY             | double precision      |           | plain    |              | \n",
    " DEP_DELAY_NEW         | double precision      |           | plain    |              | \n",
    " DEP_DEL15             | double precision      |           | plain    |              | \n",
    " DEP_DELAY_GROUP       | double precision      |           | plain    |              | \n",
    " DEP_TIME_BLK          | character varying(9)  |           | extended |              | \n",
    " TAXI_OUT              | double precision      |           | plain    |              | \n",
    " WHEELS_OFF            | double precision      |           | plain    |              | \n",
    " WHEELS_ON             | double precision      |           | plain    |              | \n",
    " TAXI_IN               | double precision      |           | plain    |              | \n",
    " CRS_ARR_TIME          | bigint                |           | plain    |              | \n",
    " ARR_TIME              | double precision      |           | plain    |              | \n",
    " ARR_DELAY             | double precision      |           | plain    |              | \n",
    " ARR_DELAY_NEW         | double precision      |           | plain    |              | \n",
    " ARR_DEL15             | double precision      |           | plain    |              | \n",
    " ARR_DELAY_GROUP       | double precision      |           | plain    |              | \n",
    " ARR_TIME_BLK          | character varying(9)  |           | extended |              | \n",
    " CANCELLED             | double precision      |           | plain    |              | \n",
    " CANCELLATION_CODE     | character varying(1)  |           | extended |              | \n",
    " DIVERTED              | double precision      |           | plain    |              | \n",
    " CRS_ELAPSED_TIME      | double precision      |           | plain    |              | \n",
    " ACTUAL_ELAPSED_TIME   | double precision      |           | plain    |              | \n",
    " AIR_TIME              | double precision      |           | plain    |              | \n",
    " FLIGHTS               | double precision      |           | plain    |              | \n",
    " DISTANCE              | double precision      |           | plain    |              | \n",
    " DISTANCE_GROUP        | bigint                |           | plain    |              | \n",
    " CARRIER_DELAY         | double precision      |           | plain    |              | \n",
    " WEATHER_DELAY         | double precision      |           | plain    |              | \n",
    " NAS_DELAY             | double precision      |           | plain    |              | \n",
    " SECURITY_DELAY        | double precision      |           | plain    |              | \n",
    " LATE_AIRCRAFT_DELAY   | double precision      |           | plain    |              | \n",
    " FIRST_DEP_TIME        | double precision      |           | plain    |              | \n",
    " TOTAL_ADD_GTIME       | double precision      |           | plain    |              | \n",
    " LONGEST_ADD_GTIME     | double precision      |           | plain    |              | \n",
    " Unnamed: 52           | double precision      |           | plain \n",
    " \"\"\""
   ]
  },
  {
   "cell_type": "code",
   "execution_count": 17,
   "metadata": {},
   "outputs": [
    {
     "name": "stdout",
     "output_type": "stream",
     "text": [
      "index = db.Column(db.Integer)\n",
      "YEAR = db.Column(db.Integer)\n",
      "QUARTER = db.Column(db.Integer)\n",
      "MONTH = db.Column(db.Integer)\n",
      "DAY_OF_MONTH = db.Column(db.Integer)\n",
      "DAY_OF_WEEK = db.Column(db.Integer)\n",
      "FL_DATE = db.Column(db.String(255))\n",
      "UNIQUE_CARRIER = db.Column(db.String(255))\n",
      "AIRLINE_ID = db.Column(db.Integer)\n",
      "CARRIER = db.Column(db.String(255))\n",
      "TAIL_NUM = db.Column(db.String(255))\n",
      "FL_NUM = db.Column(db.Integer)\n",
      "ORIGIN_AIRPORT_ID = db.Column(db.Integer)\n",
      "ORIGIN_AIRPORT_SEQ_ID = db.Column(db.Integer)\n",
      "ORIGIN_CITY_MARKET_ID = db.Column(db.Integer)\n",
      "DEST_AIRPORT_ID = db.Column(db.Integer)\n",
      "DEST_AIRPORT_SEQ_ID = db.Column(db.Integer)\n",
      "DEST_CITY_MARKET_ID = db.Column(db.Integer)\n",
      "CRS_DEP_TIME = db.Column(db.Integer)\n",
      "DEP_TIME = db.Column(db.Float)\n",
      "DEP_DELAY = db.Column(db.Float)\n",
      "DEP_DELAY_NEW = db.Column(db.Float)\n",
      "DEP_DEL15 = db.Column(db.Float)\n",
      "DEP_DELAY_GROUP = db.Column(db.Float)\n",
      "DEP_TIME_BLK = db.Column(db.String(255))\n",
      "TAXI_OUT = db.Column(db.Float)\n",
      "WHEELS_OFF = db.Column(db.Float)\n",
      "WHEELS_ON = db.Column(db.Float)\n",
      "TAXI_IN = db.Column(db.Float)\n",
      "CRS_ARR_TIME = db.Column(db.Integer)\n",
      "ARR_TIME = db.Column(db.Float)\n",
      "ARR_DELAY = db.Column(db.Float)\n",
      "ARR_DELAY_NEW = db.Column(db.Float)\n",
      "ARR_DEL15 = db.Column(db.Float)\n",
      "ARR_DELAY_GROUP = db.Column(db.Float)\n",
      "ARR_TIME_BLK = db.Column(db.String(255))\n",
      "CANCELLED = db.Column(db.Float)\n",
      "CANCELLATION_CODE = db.Column(db.String(255))\n",
      "DIVERTED = db.Column(db.Float)\n",
      "CRS_ELAPSED_TIME = db.Column(db.Float)\n",
      "ACTUAL_ELAPSED_TIME = db.Column(db.Float)\n",
      "AIR_TIME = db.Column(db.Float)\n",
      "FLIGHTS = db.Column(db.Float)\n",
      "DISTANCE = db.Column(db.Float)\n",
      "DISTANCE_GROUP = db.Column(db.Integer)\n",
      "CARRIER_DELAY = db.Column(db.Float)\n",
      "WEATHER_DELAY = db.Column(db.Float)\n",
      "NAS_DELAY = db.Column(db.Float)\n",
      "SECURITY_DELAY = db.Column(db.Float)\n",
      "LATE_AIRCRAFT_DELAY = db.Column(db.Float)\n",
      "FIRST_DEP_TIME = db.Column(db.Float)\n",
      "TOTAL_ADD_GTIME = db.Column(db.Float)\n",
      "LONGEST_ADD_GTIME = db.Column(db.Float)\n",
      "Unnamed: 52 = db.Column(db.Float)\n"
     ]
    }
   ],
   "source": [
    "parsed = [[j.strip() for j in i.split('|')[:2]] for i in str_.split('\\n')][:-1]\n",
    "def di(x):\n",
    "    d = {'bigint':'db.Integer','double precision':'db.Float'}\n",
    "    try:\n",
    "        return d[x]\n",
    "    except:\n",
    "        return 'db.String(255)'\n",
    "for i in parsed:\n",
    "    print(\"{} = db.Column({})\".format(i[0], di(i[1])))"
   ]
  }
 ],
 "metadata": {
  "kernelspec": {
   "display_name": "Python 3",
   "language": "python",
   "name": "python3"
  },
  "language_info": {
   "codemirror_mode": {
    "name": "ipython",
    "version": 3
   },
   "file_extension": ".py",
   "mimetype": "text/x-python",
   "name": "python",
   "nbconvert_exporter": "python",
   "pygments_lexer": "ipython3",
   "version": "3.6.3"
  }
 },
 "nbformat": 4,
 "nbformat_minor": 2
}
